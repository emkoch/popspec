{
 "cells": [
  {
   "cell_type": "code",
   "execution_count": 1,
   "id": "funky-fabric",
   "metadata": {},
   "outputs": [],
   "source": [
    "import numpy as np\n",
    "import math\n",
    "import pandas as pd\n",
    "import matplotlib.pyplot as plt\n",
    "\n",
    "plt.rcParams['figure.figsize'] = [12, 4]"
   ]
  },
  {
   "cell_type": "code",
   "execution_count": null,
   "id": "8dca0eb9",
   "metadata": {},
   "outputs": [],
   "source": [
    "# Let's start by reading in some of these files\n",
    "from os import listdir\n",
    "from os.path import isfile, join\n",
    "\n",
    "mypath='./sim_outputs'\n",
    "gz_files = [f for f in listdir(mypath) if isfile(join(mypath, f))]"
   ]
  },
  {
   "cell_type": "code",
   "execution_count": null,
   "id": "025c0bed",
   "metadata": {},
   "outputs": [],
   "source": [
    "import re\n",
    "\n",
    "pattern = re.compile('sim_outputs_1_[0-9]+\\.txt\\.gz')\n",
    "bool(pattern.match('sim_outputs_15_100.txt.gz'))"
   ]
  },
  {
   "cell_type": "code",
   "execution_count": null,
   "id": "e5f5609d",
   "metadata": {},
   "outputs": [],
   "source": [
    "# Create a dataframe out of the ones for a specified step size \n",
    "import gzip \n",
    "import re\n",
    "step_size = 15\n",
    "\n",
    "specified_files = []\n",
    "for file in gz_files:    \n",
    "    pattern = re.compile(f'sim_outputs_{step_size}_[0-9]+\\.txt\\.gz')\n",
    "\n",
    "    if bool(pattern.match(file)):\n",
    "        specified_files.append(file)\n",
    "\n",
    "sim_df = pd.read_csv(mypath + f'/{specified_files[0]}', sep='\\t', compression='gzip')\n",
    "\n",
    "for file in specified_files[1:]:\n",
    "    try:\n",
    "        new_df = pd.read_csv(mypath + f'/{file}', sep='\\t', compression='gzip')\n",
    "        sim_df = pd.concat([sim_df, new_df])\n",
    "    except:\n",
    "        print(f\"error file {file}\")"
   ]
  },
  {
   "cell_type": "code",
   "execution_count": null,
   "id": "6fd76d97",
   "metadata": {},
   "outputs": [],
   "source": [
    "def line_scat(val_vec):\n",
    "    d = {}\n",
    "    for i in val_vec:\n",
    "        if not d.get(i):\n",
    "            d[i] = 0\n",
    "        d[i] += 1\n",
    "    ks = sorted(list(d.keys()))\n",
    "    vs = [d[i] for i in ks]\n",
    "    return ks, vs\n",
    "\n",
    "x = np.linspace(1, 10000, 10000)\n",
    "y = 0.01/x\n",
    "\n",
    "ks_1, vs_1 = line_scat(sim_df[\"N01\"] + sim_df[\"N11\"])\n",
    "ks_2, vs_2 = line_scat(sim_df[\"N10\"] + sim_df[\"N11\"])\n",
    "ks_3, vs_3 = line_scat(sim_df[\"N11\"])\n",
    "\n",
    "\n",
    "plt.plot(np.array(ks_2), np.array(vs_2)/100000, label=\"site2\")\n",
    "plt.plot(np.array(ks_1), np.array(vs_1)/100000, label=\"site1\")\n",
    "plt.plot(np.array(ks_3), np.array(vs_3)/100000, label=\"double mutants\")\n",
    "plt.plot(x, y, label=\"hyperbolic expectation\")\n",
    "\n",
    "plt.yscale(\"log\")\n",
    "plt.xscale(\"log\")\n",
    "plt.grid()\n",
    "plt.legend()\n",
    "plt.xlabel(\"AF\")\n",
    "plt.ylabel(\"frequency\")\n",
    "plt.title(f\"Neutral Simulation with run multiplier {step_size}\")\n",
    "plt.savefig(f\"plots/neutral_sim_AFs_{step_size}.pdf\")\n",
    "plt.show()"
   ]
  },
  {
   "cell_type": "markdown",
   "id": "f79283f0",
   "metadata": {},
   "source": [
    "## Selection plots"
   ]
  },
  {
   "cell_type": "code",
   "execution_count": null,
   "id": "c9284406",
   "metadata": {},
   "outputs": [],
   "source": [
    "# Let's start by reading in some of these files\n",
    "from os import listdir\n",
    "from os.path import isfile, join\n",
    "\n",
    "mypath='./sim_outputs/selection'\n",
    "gz_files = [f for f in listdir(mypath) if isfile(join(mypath, f))]\n",
    "\n",
    "beta_vals = [0.00223607, 0.00423899, 0.00803601, 0.01523415, 0.02887993, 0.05474871, 0.10378908, 0.19675666, 0.37299862, 0.70710678]"
   ]
  },
  {
   "cell_type": "code",
   "execution_count": null,
   "id": "9c3c6a6e",
   "metadata": {},
   "outputs": [],
   "source": [
    "# We now proceed to get all dataframes for a specific site pair\n",
    "beta_vals = [0.00223607, 0.00423899, 0.00803601, 0.01523415, 0.02887993, 0.05474871, 0.10378908, 0.19675666, 0.37299862, 0.70710678]\n",
    "site_1 = 1\n",
    "site_2 = 4\n",
    "\n",
    "site_1_pos = True\n",
    "site_2_pos = False\n",
    "\n",
    "import re\n",
    "\n",
    "pattern = re.compile(f'sim_outputs_{site_1}_{site_2}_[0-9]+\\.txt\\.gz')\n",
    "\n",
    "specified_files = []\n",
    "for file in gz_files:    \n",
    "    if bool(pattern.match(file)):\n",
    "        specified_files.append(file)\n",
    "\n",
    "# Build the dataframe\n",
    "sim_df = pd.read_csv(mypath + f'/{specified_files[0]}', sep='\\t', compression='gzip')\n",
    "\n",
    "for file in specified_files[1:]:\n",
    "    try:\n",
    "        new_df = pd.read_csv(mypath + f'/{file}', sep='\\t', compression='gzip')\n",
    "        sim_df = pd.concat([sim_df, new_df])\n",
    "    except:\n",
    "        print(f\"error file {file}\")"
   ]
  },
  {
   "cell_type": "code",
   "execution_count": null,
   "id": "1910d249",
   "metadata": {},
   "outputs": [],
   "source": [
    "# Let's create folders for all of the pairs of values\n",
    "import os\n",
    "\n",
    "parent_dir = './plots/selection/'\n",
    "for i in range(10):\n",
    "    for j in range(i, 10):\n",
    "        directory = f'{i}_{j}'\n",
    "        path = os.path.join(parent_dir, directory)\n",
    "        os.mkdir(path)\n"
   ]
  },
  {
   "cell_type": "code",
   "execution_count": null,
   "id": "ee937595",
   "metadata": {},
   "outputs": [],
   "source": [
    "# Finally, we plot after subsetting for the signage we want\n",
    "def line_scat(val_vec):\n",
    "    d = {}\n",
    "    for i in val_vec:\n",
    "        if not d.get(i):\n",
    "            d[i] = 0\n",
    "        d[i] += 1\n",
    "    ks = sorted(list(d.keys()))\n",
    "    vs = [d[i] for i in ks]\n",
    "    return ks, vs\n",
    "\n",
    "def buildSelectionPlot(beta_vals, sim_df, site_1, site_2, site_1_pos, site_2_pos):\n",
    "    if site_1_pos:\n",
    "        sim_df = sim_df[sim_df['beta_1'] > 0]\n",
    "    else:\n",
    "        sim_df = sim_df[sim_df['beta_1'] < 0]\n",
    "\n",
    "    if site_2_pos:\n",
    "        sim_df = sim_df[sim_df['beta_2'] > 0]\n",
    "    else:\n",
    "        sim_df = sim_df[sim_df['beta_2'] < 0]\n",
    "\n",
    "    if site_1_pos:\n",
    "        site_1_lab = ''\n",
    "    else:\n",
    "        site_1_lab = '-'\n",
    "\n",
    "    if site_2_pos:\n",
    "        site_2_lab = ''\n",
    "    else:\n",
    "        site_2_lab = '-'\n",
    "\n",
    "    # x = np.linspace(1, 10000, 10000)\n",
    "    # y = 0.01/x\n",
    "\n",
    "    ks_1, vs_1 = line_scat(sim_df[\"N01\"] + sim_df[\"N11\"])\n",
    "    ks_2, vs_2 = line_scat(sim_df[\"N10\"] + sim_df[\"N11\"])\n",
    "    ks_3, vs_3 = line_scat(sim_df[\"N11\"])\n",
    "\n",
    "\n",
    "    plt.plot(np.array(ks_2), np.array(vs_2)/100000, label=\"site2\")\n",
    "    plt.plot(np.array(ks_1), np.array(vs_1)/100000, label=\"site1\")\n",
    "    plt.plot(np.array(ks_3), np.array(vs_3)/100000, label=\"double mutants\")\n",
    "    # plt.plot(x, y, label=\"hyperbolic expectation\")\n",
    "\n",
    "    plt.yscale(\"log\")\n",
    "    plt.xscale(\"log\")\n",
    "    plt.grid()\n",
    "    plt.legend()\n",
    "    plt.xlabel(\"AF\")\n",
    "    plt.ylabel(\"frequency\")\n",
    "    plt.title(f\"Simulation with beta_1 = {site_1_lab}{beta_vals[site_1]} and beta_2 = {site_2_lab}{beta_vals[site_2]}\")\n",
    "    plt.savefig(f\"plots/selection/{site_1}_{site_2}/selection_sim_AFs_{site_1}_{site_2}_{site_1_pos}_{site_2_pos}.pdf\")\n",
    "    plt.close()\n"
   ]
  },
  {
   "cell_type": "code",
   "execution_count": null,
   "id": "63ca622e",
   "metadata": {},
   "outputs": [],
   "source": [
    "import re\n",
    "\n",
    "# Let's make plots for all pairs and all signs\n",
    "for site_1 in range(3, 10):\n",
    "    for site_2 in range(site_1, 10):\n",
    "        # Build the dataframes\n",
    "        pattern = re.compile(f'sim_outputs_{site_1}_{site_2}_[0-9]+\\.txt\\.gz')\n",
    "\n",
    "        specified_files = []\n",
    "        for file in gz_files:    \n",
    "            if bool(pattern.match(file)):\n",
    "                specified_files.append(file)\n",
    "\n",
    "        # Build the dataframe\n",
    "        sim_df = pd.read_csv(mypath + f'/{specified_files[0]}', sep='\\t', compression='gzip')\n",
    "\n",
    "        for file in specified_files[1:]:\n",
    "            try:\n",
    "                new_df = pd.read_csv(mypath + f'/{file}', sep='\\t', compression='gzip')\n",
    "                sim_df = pd.concat([sim_df, new_df])\n",
    "            except:\n",
    "                print(f\"error file {file}\")\n",
    "        \n",
    "        # Now plot what we want\n",
    "        for site_1_pos in [True, False]:\n",
    "            for site_2_pos in [True, False]:\n",
    "                buildSelectionPlot(beta_vals, sim_df, site_1, site_2, site_1_pos, site_2_pos)  \n",
    "\n",
    "        print(f'finished pair ({site_1}, {site_2})')"
   ]
  },
  {
   "cell_type": "markdown",
   "id": "444742c4",
   "metadata": {},
   "source": [
    "# Integrating the SFS\n"
   ]
  },
  {
   "cell_type": "code",
   "execution_count": 14,
   "id": "01ca4570",
   "metadata": {},
   "outputs": [
    {
     "name": "stderr",
     "output_type": "stream",
     "text": [
      "/tmp/ipykernel_13234/3611171571.py:45: MatplotlibDeprecationWarning: The get_cmap function was deprecated in Matplotlib 3.7 and will be removed two minor releases later. Use ``matplotlib.colormaps[name]`` or ``matplotlib.colormaps.get_cmap(obj)`` instead.\n",
      "  cmap = get_cmap('seismic_r')\n"
     ]
    },
    {
     "ename": "KeyboardInterrupt",
     "evalue": "",
     "output_type": "error",
     "traceback": [
      "\u001b[0;31m---------------------------------------------------------------------------\u001b[0m",
      "\u001b[0;31mKeyboardInterrupt\u001b[0m                         Traceback (most recent call last)",
      "Cell \u001b[0;32mIn[14], line 52\u001b[0m\n\u001b[1;32m     49\u001b[0m sigma_set \u001b[38;5;241m=\u001b[39m np\u001b[38;5;241m.\u001b[39mlogspace(\u001b[38;5;241m-\u001b[39m\u001b[38;5;241m1\u001b[39m, \u001b[38;5;241m4\u001b[39m, \u001b[38;5;241m100\u001b[39m)\n\u001b[1;32m     51\u001b[0m \u001b[38;5;28;01mfor\u001b[39;00m MAF_thr \u001b[38;5;129;01min\u001b[39;00m MAF_thr_values:\n\u001b[0;32m---> 52\u001b[0m     corr_set \u001b[38;5;241m=\u001b[39m [stab_corr_posLD_poly(MAF_thr, sigma) \u001b[38;5;28;01mfor\u001b[39;00m sigma \u001b[38;5;129;01min\u001b[39;00m sigma_set]\n\u001b[1;32m     53\u001b[0m     plt\u001b[38;5;241m.\u001b[39mplot(sigma_set, corr_set, color\u001b[38;5;241m=\u001b[39mcmap(norm(MAF_thr)), label\u001b[38;5;241m=\u001b[39m\u001b[38;5;28mstr\u001b[39m(MAF_thr))\n\u001b[1;32m     55\u001b[0m plt\u001b[38;5;241m.\u001b[39mgrid()\n",
      "Cell \u001b[0;32mIn[14], line 42\u001b[0m, in \u001b[0;36mstab_corr_posLD_poly\u001b[0;34m(yy, SS)\u001b[0m\n\u001b[1;32m     40\u001b[0m \u001b[38;5;28;01mdef\u001b[39;00m \u001b[38;5;21mex_sum\u001b[39m(xx):\n\u001b[1;32m     41\u001b[0m     \u001b[38;5;28;01mreturn\u001b[39;00m xx \u001b[38;5;241m*\u001b[39m (poly_prob(yy, (\u001b[38;5;241m2\u001b[39m\u001b[38;5;241m*\u001b[39mnp\u001b[38;5;241m.\u001b[39msqrt(SS)\u001b[38;5;241m-\u001b[39mxx\u001b[38;5;241m*\u001b[39mnp\u001b[38;5;241m.\u001b[39msqrt(SS))\u001b[38;5;241m*\u001b[39m\u001b[38;5;241m*\u001b[39m\u001b[38;5;241m2\u001b[39m ) \u001b[38;5;241m+\u001b[39m poly_prob(yy, xx\u001b[38;5;241m*\u001b[39m\u001b[38;5;241m*\u001b[39m\u001b[38;5;241m2\u001b[39m\u001b[38;5;241m*\u001b[39mSS)) \u001b[38;5;241m*\u001b[39m sfs_ud_params_sigma(xx, \u001b[38;5;241m1\u001b[39m, SS)\n\u001b[0;32m---> 42\u001b[0m \u001b[38;5;28;01mreturn\u001b[39;00m quad(ex_diff, \u001b[38;5;241m0\u001b[39m, \u001b[38;5;241m1\u001b[39m)[\u001b[38;5;241m0\u001b[39m] \u001b[38;5;241m/\u001b[39m quad(ex_sum, \u001b[38;5;241m0\u001b[39m, \u001b[38;5;241m1\u001b[39m)[\u001b[38;5;241m0\u001b[39m]\n",
      "File \u001b[0;32m~/.conda/envs/py311/lib/python3.12/site-packages/scipy/integrate/_quadpack_py.py:459\u001b[0m, in \u001b[0;36mquad\u001b[0;34m(func, a, b, args, full_output, epsabs, epsrel, limit, points, weight, wvar, wopts, maxp1, limlst, complex_func)\u001b[0m\n\u001b[1;32m    456\u001b[0m     \u001b[38;5;28;01mreturn\u001b[39;00m retval\n\u001b[1;32m    458\u001b[0m \u001b[38;5;28;01mif\u001b[39;00m weight \u001b[38;5;129;01mis\u001b[39;00m \u001b[38;5;28;01mNone\u001b[39;00m:\n\u001b[0;32m--> 459\u001b[0m     retval \u001b[38;5;241m=\u001b[39m _quad(func, a, b, args, full_output, epsabs, epsrel, limit,\n\u001b[1;32m    460\u001b[0m                    points)\n\u001b[1;32m    461\u001b[0m \u001b[38;5;28;01melse\u001b[39;00m:\n\u001b[1;32m    462\u001b[0m     \u001b[38;5;28;01mif\u001b[39;00m points \u001b[38;5;129;01mis\u001b[39;00m \u001b[38;5;129;01mnot\u001b[39;00m \u001b[38;5;28;01mNone\u001b[39;00m:\n",
      "File \u001b[0;32m~/.conda/envs/py311/lib/python3.12/site-packages/scipy/integrate/_quadpack_py.py:606\u001b[0m, in \u001b[0;36m_quad\u001b[0;34m(func, a, b, args, full_output, epsabs, epsrel, limit, points)\u001b[0m\n\u001b[1;32m    604\u001b[0m \u001b[38;5;28;01mif\u001b[39;00m points \u001b[38;5;129;01mis\u001b[39;00m \u001b[38;5;28;01mNone\u001b[39;00m:\n\u001b[1;32m    605\u001b[0m     \u001b[38;5;28;01mif\u001b[39;00m infbounds \u001b[38;5;241m==\u001b[39m \u001b[38;5;241m0\u001b[39m:\n\u001b[0;32m--> 606\u001b[0m         \u001b[38;5;28;01mreturn\u001b[39;00m _quadpack\u001b[38;5;241m.\u001b[39m_qagse(func,a,b,args,full_output,epsabs,epsrel,limit)\n\u001b[1;32m    607\u001b[0m     \u001b[38;5;28;01melse\u001b[39;00m:\n\u001b[1;32m    608\u001b[0m         \u001b[38;5;28;01mreturn\u001b[39;00m _quadpack\u001b[38;5;241m.\u001b[39m_qagie(func, bound, infbounds, args, full_output, \n\u001b[1;32m    609\u001b[0m                                 epsabs, epsrel, limit)\n",
      "Cell \u001b[0;32mIn[14], line 41\u001b[0m, in \u001b[0;36mstab_corr_posLD_poly.<locals>.ex_sum\u001b[0;34m(xx)\u001b[0m\n\u001b[1;32m     40\u001b[0m \u001b[38;5;28;01mdef\u001b[39;00m \u001b[38;5;21mex_sum\u001b[39m(xx):\n\u001b[0;32m---> 41\u001b[0m     \u001b[38;5;28;01mreturn\u001b[39;00m xx \u001b[38;5;241m*\u001b[39m (poly_prob(yy, (\u001b[38;5;241m2\u001b[39m\u001b[38;5;241m*\u001b[39mnp\u001b[38;5;241m.\u001b[39msqrt(SS)\u001b[38;5;241m-\u001b[39mxx\u001b[38;5;241m*\u001b[39mnp\u001b[38;5;241m.\u001b[39msqrt(SS))\u001b[38;5;241m*\u001b[39m\u001b[38;5;241m*\u001b[39m\u001b[38;5;241m2\u001b[39m ) \u001b[38;5;241m+\u001b[39m poly_prob(yy, xx\u001b[38;5;241m*\u001b[39m\u001b[38;5;241m*\u001b[39m\u001b[38;5;241m2\u001b[39m\u001b[38;5;241m*\u001b[39mSS)) \u001b[38;5;241m*\u001b[39m sfs_ud_params_sigma(xx, \u001b[38;5;241m1\u001b[39m, SS)\n",
      "Cell \u001b[0;32mIn[14], line 22\u001b[0m, in \u001b[0;36mpoly_prob\u001b[0;34m(yy, sigma)\u001b[0m\n\u001b[1;32m     21\u001b[0m \u001b[38;5;28;01mdef\u001b[39;00m \u001b[38;5;21mpoly_prob\u001b[39m(yy, sigma):\n\u001b[0;32m---> 22\u001b[0m     \u001b[38;5;28;01mreturn\u001b[39;00m sp\u001b[38;5;241m.\u001b[39mintegrate\u001b[38;5;241m.\u001b[39mquad(sfs_ud_params_sigma, yy, \u001b[38;5;241m1\u001b[39m\u001b[38;5;241m-\u001b[39myy, args\u001b[38;5;241m=\u001b[39m(\u001b[38;5;241m1\u001b[39m, sigma))[\u001b[38;5;241m0\u001b[39m]\n",
      "File \u001b[0;32m~/.conda/envs/py311/lib/python3.12/site-packages/scipy/integrate/_quadpack_py.py:459\u001b[0m, in \u001b[0;36mquad\u001b[0;34m(func, a, b, args, full_output, epsabs, epsrel, limit, points, weight, wvar, wopts, maxp1, limlst, complex_func)\u001b[0m\n\u001b[1;32m    456\u001b[0m     \u001b[38;5;28;01mreturn\u001b[39;00m retval\n\u001b[1;32m    458\u001b[0m \u001b[38;5;28;01mif\u001b[39;00m weight \u001b[38;5;129;01mis\u001b[39;00m \u001b[38;5;28;01mNone\u001b[39;00m:\n\u001b[0;32m--> 459\u001b[0m     retval \u001b[38;5;241m=\u001b[39m _quad(func, a, b, args, full_output, epsabs, epsrel, limit,\n\u001b[1;32m    460\u001b[0m                    points)\n\u001b[1;32m    461\u001b[0m \u001b[38;5;28;01melse\u001b[39;00m:\n\u001b[1;32m    462\u001b[0m     \u001b[38;5;28;01mif\u001b[39;00m points \u001b[38;5;129;01mis\u001b[39;00m \u001b[38;5;129;01mnot\u001b[39;00m \u001b[38;5;28;01mNone\u001b[39;00m:\n",
      "File \u001b[0;32m~/.conda/envs/py311/lib/python3.12/site-packages/scipy/integrate/_quadpack_py.py:606\u001b[0m, in \u001b[0;36m_quad\u001b[0;34m(func, a, b, args, full_output, epsabs, epsrel, limit, points)\u001b[0m\n\u001b[1;32m    604\u001b[0m \u001b[38;5;28;01mif\u001b[39;00m points \u001b[38;5;129;01mis\u001b[39;00m \u001b[38;5;28;01mNone\u001b[39;00m:\n\u001b[1;32m    605\u001b[0m     \u001b[38;5;28;01mif\u001b[39;00m infbounds \u001b[38;5;241m==\u001b[39m \u001b[38;5;241m0\u001b[39m:\n\u001b[0;32m--> 606\u001b[0m         \u001b[38;5;28;01mreturn\u001b[39;00m _quadpack\u001b[38;5;241m.\u001b[39m_qagse(func,a,b,args,full_output,epsabs,epsrel,limit)\n\u001b[1;32m    607\u001b[0m     \u001b[38;5;28;01melse\u001b[39;00m:\n\u001b[1;32m    608\u001b[0m         \u001b[38;5;28;01mreturn\u001b[39;00m _quadpack\u001b[38;5;241m.\u001b[39m_qagie(func, bound, infbounds, args, full_output, \n\u001b[1;32m    609\u001b[0m                                 epsabs, epsrel, limit)\n",
      "Cell \u001b[0;32mIn[14], line 13\u001b[0m, in \u001b[0;36msfs_ud_params_sigma\u001b[0;34m(xx, theta, S_ud)\u001b[0m\n\u001b[1;32m     11\u001b[0m \u001b[38;5;28;01mdef\u001b[39;00m \u001b[38;5;21msfs_ud_params_sigma\u001b[39m(xx, theta, S_ud):\n\u001b[1;32m     12\u001b[0m \u001b[38;5;250m    \u001b[39m\u001b[38;5;124;03m\"\"\"Calculate the intensity of the site frequency spectrum under underdominant selection.\"\"\"\u001b[39;00m\n\u001b[0;32m---> 13\u001b[0m     S_ud \u001b[38;5;241m=\u001b[39m np\u001b[38;5;241m.\u001b[39mabs(S_ud) \u001b[38;5;241m+\u001b[39m \u001b[38;5;241m1e-8\u001b[39m\n\u001b[1;32m     14\u001b[0m     \u001b[38;5;28;01mreturn\u001b[39;00m (theta\u001b[38;5;241m*\u001b[39mnp\u001b[38;5;241m.\u001b[39mexp(\u001b[38;5;241m-\u001b[39mS_ud\u001b[38;5;241m*\u001b[39mxx\u001b[38;5;241m*\u001b[39m(\u001b[38;5;241m1\u001b[39m\u001b[38;5;241m-\u001b[39mxx))\u001b[38;5;241m/\u001b[39m(xx\u001b[38;5;241m*\u001b[39m(\u001b[38;5;241m1\u001b[39m\u001b[38;5;241m-\u001b[39mxx))\u001b[38;5;241m*\u001b[39m\n\u001b[1;32m     15\u001b[0m                  (\u001b[38;5;241m1\u001b[39m \u001b[38;5;241m+\u001b[39m erf(np\u001b[38;5;241m.\u001b[39msqrt(S_ud)\u001b[38;5;241m*\u001b[39m(\u001b[38;5;241m0.5\u001b[39m\u001b[38;5;241m-\u001b[39mxx))\u001b[38;5;241m/\u001b[39m\n\u001b[1;32m     16\u001b[0m                  erf(np\u001b[38;5;241m.\u001b[39msqrt(S_ud)\u001b[38;5;241m/\u001b[39m\u001b[38;5;241m2\u001b[39m)))\n",
      "\u001b[0;31mKeyboardInterrupt\u001b[0m: "
     ]
    }
   ],
   "source": [
    "# This is the code to calculate the correlations from selection vals\n",
    "import numpy as np\n",
    "import scipy as sp\n",
    "from scipy.special import erf\n",
    "from scipy.integrate import quad\n",
    "import matplotlib.pyplot as plt\n",
    "from matplotlib.cm import get_cmap\n",
    "from matplotlib.colors import Normalize, LogNorm\n",
    "\n",
    "\n",
    "def sfs_ud_params_sigma(xx, theta, S_ud):\n",
    "    \"\"\"Calculate the intensity of the site frequency spectrum under underdominant selection.\"\"\"\n",
    "    S_ud = np.abs(S_ud) + 1e-8\n",
    "    return (theta*np.exp(-S_ud*xx*(1-xx))/(xx*(1-xx))*\n",
    "                 (1 + erf(np.sqrt(S_ud)*(0.5-xx))/\n",
    "                 erf(np.sqrt(S_ud)/2)))\n",
    "\n",
    "ud_burden = lambda xx, theta, sigma: xx*sfs_ud_params_sigma(xx, theta, sigma)\n",
    "\n",
    "\n",
    "def poly_prob(yy, sigma):\n",
    "    return sp.integrate.quad(sfs_ud_params_sigma, yy, 1-yy, args=(1, sigma))[0]\n",
    "\n",
    "def ex_burden(sigma):\n",
    "    return sp.integrate.quad(ud_burden, 0, 1, args=(1, sigma))[0]\n",
    "\n",
    "def stab_corr(yy, sigma, pos_d=True):\n",
    "    burd = ex_burden(sigma)\n",
    "    neut_prob = poly_prob(yy, 0)\n",
    "    double_prob = poly_prob(yy, 4*sigma)\n",
    "    single_prob = poly_prob(yy, sigma)\n",
    "    if pos_d:\n",
    "        return (double_prob - neut_prob) / (double_prob + neut_prob)\n",
    "    else:\n",
    "        return burd * (double_prob - neut_prob) / (burd * (double_prob + neut_prob) + single_prob**2)\n",
    "\n",
    "def stab_corr_posLD_poly(yy, SS):\n",
    "    def ex_diff(xx):\n",
    "        return xx * (poly_prob(yy, (2*np.sqrt(SS)-xx*np.sqrt(SS))**2 ) - poly_prob(yy, xx**2*SS)) * sfs_ud_params_sigma(xx, 1, SS)\n",
    "    def ex_sum(xx):\n",
    "        return xx * (poly_prob(yy, (2*np.sqrt(SS)-xx*np.sqrt(SS))**2 ) + poly_prob(yy, xx**2*SS)) * sfs_ud_params_sigma(xx, 1, SS)\n",
    "    return quad(ex_diff, 0, 1)[0] / quad(ex_sum, 0, 1)[0]\n",
    "    \n",
    "\n",
    "cmap = get_cmap('seismic_r')\n",
    "norm = Normalize(vmin=0.001, vmax=0.1)\n",
    "\n",
    "MAF_thr_values = [0.1, 0.03, 0.01, 0.003, 0.001][::-1]\n",
    "sigma_set = np.logspace(-1, 4, 100)\n",
    "\n",
    "for MAF_thr in MAF_thr_values:\n",
    "    corr_set = [stab_corr_posLD_poly(MAF_thr, sigma) for sigma in sigma_set]\n",
    "    plt.plot(sigma_set, corr_set, color=cmap(norm(MAF_thr)), label=str(MAF_thr))\n",
    "\n",
    "plt.grid()\n",
    "plt.xscale(\"log\")\n",
    "plt.xlabel(\"S\", fontsize = 14)\n",
    "plt.ylabel(\"$\\\\xi$\", fontsize = 14)\n",
    "plt.legend()\n",
    "plt.show()"
   ]
  },
  {
   "cell_type": "code",
   "execution_count": 59,
   "id": "ed2c33f4",
   "metadata": {},
   "outputs": [],
   "source": [
    "# corr_df_pos.to_csv('dataframes/corr_pos_demog_neg.csv', sep='\\t')\n",
    "# corr_df_tot.to_csv('dataframes/corr_tot_demog_neg.csv', sep='\\t')"
   ]
  },
  {
   "cell_type": "code",
   "execution_count": 58,
   "id": "7e011f26",
   "metadata": {},
   "outputs": [
    {
     "name": "stdout",
     "output_type": "stream",
     "text": [
      "starting site 0\n"
     ]
    },
    {
     "name": "stderr",
     "output_type": "stream",
     "text": [
      "/tmp/ipykernel_13234/1137423704.py:34: ConstantInputWarning: An input array is constant; the correlation coefficient is not defined.\n",
      "  r = pearsonr(sub_df_pos['beta_1'], sub_df_pos['beta_2'])\n",
      "/tmp/ipykernel_13234/1137423704.py:45: ConstantInputWarning: An input array is constant; the correlation coefficient is not defined.\n",
      "  r = pearsonr(sub_df_neg['beta_1'], sub_df_neg['beta_2'])\n",
      "/tmp/ipykernel_13234/1137423704.py:55: ConstantInputWarning: An input array is constant; the correlation coefficient is not defined.\n",
      "  r = pearsonr(sub_df_tot['beta_1'], sub_df_tot['beta_2'])\n"
     ]
    },
    {
     "name": "stdout",
     "output_type": "stream",
     "text": [
      "starting site 1\n",
      "starting site 2\n",
      "starting site 3\n",
      "starting site 4\n",
      "starting site 5\n",
      "starting site 6\n",
      "starting site 7\n",
      "starting site 8\n",
      "starting site 9\n",
      "starting site 10\n",
      "starting site 11\n",
      "starting site 12\n",
      "starting site 13\n",
      "starting site 14\n",
      "starting site 15\n",
      "starting site 16\n",
      "starting site 17\n",
      "starting site 18\n",
      "starting site 19\n",
      "starting site 20\n",
      "starting site 21\n",
      "starting site 22\n",
      "starting site 23\n",
      "starting site 24\n",
      "missed D < 0 for site 24, 0.1\n",
      "starting site 25\n",
      "missed D < 0 for site 25, 0.1\n",
      "starting site 26\n",
      "missed D < 0 for site 26, 0.1\n",
      "starting site 27\n",
      "missed D < 0 for site 27, 0.1\n",
      "starting site 28\n",
      "missed D < 0 for site 28, 0.03\n",
      "missed D < 0 for site 28, 0.1\n",
      "starting site 29\n",
      "missed D < 0 for site 29, 0.03\n",
      "missed D < 0 for site 29, 0.1\n",
      "starting site 30\n",
      "missed D < 0 for site 30, 0.01\n",
      "missed D < 0 for site 30, 0.03\n",
      "missed D < 0 for site 30, 0.1\n",
      "starting site 31\n",
      "missed D < 0 for site 31, 0.01\n",
      "missed D < 0 for site 31, 0.03\n",
      "missed D < 0 for site 31, 0.1\n",
      "starting site 32\n",
      "missed D < 0 for site 32, 0.01\n",
      "missed D < 0 for site 32, 0.03\n",
      "missed D < 0 for site 32, 0.1\n",
      "starting site 33\n"
     ]
    },
    {
     "name": "stderr",
     "output_type": "stream",
     "text": [
      "/tmp/ipykernel_13234/1137423704.py:45: ConstantInputWarning: An input array is constant; the correlation coefficient is not defined.\n",
      "  r = pearsonr(sub_df_neg['beta_1'], sub_df_neg['beta_2'])\n"
     ]
    },
    {
     "name": "stdout",
     "output_type": "stream",
     "text": [
      "missed D < 0 for site 33, 0.01\n",
      "missed D < 0 for site 33, 0.03\n",
      "missed D < 0 for site 33, 0.1\n",
      "starting site 34\n",
      "missed D < 0 for site 34, 0.003\n",
      "missed D < 0 for site 34, 0.01\n",
      "missed D < 0 for site 34, 0.03\n",
      "missed D < 0 for site 34, 0.1\n",
      "starting site 35\n",
      "missed D < 0 for site 35, 0.003\n",
      "missed D < 0 for site 35, 0.01\n",
      "missed D < 0 for site 35, 0.03\n",
      "missed D < 0 for site 35, 0.1\n",
      "starting site 36\n",
      "missed D < 0 for site 36, 0.003\n",
      "missed D < 0 for site 36, 0.01\n",
      "missed D < 0 for site 36, 0.03\n",
      "missed D < 0 for site 36, 0.1\n",
      "starting site 37\n",
      "missed D < 0 for site 37, 0.001\n",
      "missed D < 0 for site 37, 0.003\n",
      "missed D < 0 for site 37, 0.01\n",
      "missed D < 0 for site 37, 0.03\n",
      "missed D < 0 for site 37, 0.1\n",
      "starting site 38\n",
      "missed D < 0 for site 38, 0.001\n",
      "missed D < 0 for site 38, 0.003\n",
      "missed D < 0 for site 38, 0.01\n",
      "missed D < 0 for site 38, 0.03\n",
      "missed D < 0 for site 38, 0.1\n",
      "starting site 39\n",
      "missed D < 0 for site 39, 0.001\n",
      "missed D < 0 for site 39, 0.003\n",
      "missed D < 0 for site 39, 0.01\n",
      "missed D < 0 for site 39, 0.03\n",
      "missed D < 0 for site 39, 0.1\n",
      "starting site 40\n",
      "missed D < 0 for site 40, 0.001\n",
      "missed D < 0 for site 40, 0.003\n",
      "missed D < 0 for site 40, 0.01\n",
      "missed D < 0 for site 40, 0.03\n",
      "missed D < 0 for site 40, 0.1\n",
      "starting site 41\n",
      "missed D < 0 for site 41, 0.001\n",
      "missed D < 0 for site 41, 0.003\n",
      "missed D < 0 for site 41, 0.01\n",
      "missed D < 0 for site 41, 0.03\n",
      "missed D < 0 for site 41, 0.1\n",
      "starting site 42\n",
      "missed D < 0 for site 42, 0.001\n",
      "missed D < 0 for site 42, 0.003\n",
      "missed D < 0 for site 42, 0.01\n",
      "missed D < 0 for site 42, 0.03\n",
      "missed D < 0 for site 42, 0.1\n",
      "starting site 43\n",
      "missed D < 0 for site 43, 0.001\n",
      "missed D < 0 for site 43, 0.003\n",
      "missed D < 0 for site 43, 0.01\n",
      "missed D < 0 for site 43, 0.03\n",
      "missed D < 0 for site 43, 0.1\n",
      "starting site 44\n",
      "missed D < 0 for site 44, 0.001\n",
      "missed D < 0 for site 44, 0.003\n",
      "missed D < 0 for site 44, 0.01\n",
      "missed D < 0 for site 44, 0.03\n",
      "missed D < 0 for site 44, 0.1\n",
      "starting site 45\n",
      "missed D < 0 for site 45, 0.001\n",
      "missed D < 0 for site 45, 0.003\n"
     ]
    },
    {
     "name": "stderr",
     "output_type": "stream",
     "text": [
      "/tmp/ipykernel_13234/1137423704.py:34: ConstantInputWarning: An input array is constant; the correlation coefficient is not defined.\n",
      "  r = pearsonr(sub_df_pos['beta_1'], sub_df_pos['beta_2'])\n"
     ]
    },
    {
     "name": "stdout",
     "output_type": "stream",
     "text": [
      "missed D < 0 for site 45, 0.01\n"
     ]
    },
    {
     "name": "stderr",
     "output_type": "stream",
     "text": [
      "/tmp/ipykernel_13234/1137423704.py:55: ConstantInputWarning: An input array is constant; the correlation coefficient is not defined.\n",
      "  r = pearsonr(sub_df_tot['beta_1'], sub_df_tot['beta_2'])\n"
     ]
    },
    {
     "name": "stdout",
     "output_type": "stream",
     "text": [
      "missed D < 0 for site 45, 0.03\n",
      "missed D < 0 for site 45, 0.1\n",
      "starting site 46\n",
      "missed D < 0 for site 46, 0.001\n",
      "missed D < 0 for site 46, 0.003\n",
      "missed D < 0 for site 46, 0.01\n",
      "missed D < 0 for site 46, 0.03\n",
      "missed D < 0 for site 46, 0.1\n",
      "starting site 47\n",
      "missed D < 0 for site 47, 0.001\n",
      "missed D < 0 for site 47, 0.003\n",
      "missed D < 0 for site 47, 0.01\n",
      "missed D < 0 for site 47, 0.03\n",
      "missed D < 0 for site 47, 0.1\n",
      "starting site 48\n",
      "missed D < 0 for site 48, 0.001\n",
      "missed D < 0 for site 48, 0.003\n",
      "missed D < 0 for site 48, 0.01\n",
      "missed D < 0 for site 48, 0.03\n",
      "missed D < 0 for site 48, 0.1\n",
      "starting site 49\n",
      "missed D < 0 for site 49, 0.001\n",
      "missed D < 0 for site 49, 0.003\n",
      "missed D < 0 for site 49, 0.01\n",
      "missed D < 0 for site 49, 0.03\n",
      "missed D < 0 for site 49, 0.1\n",
      "starting site 50\n",
      "missed D < 0 for site 50, 0.001\n",
      "missed D < 0 for site 50, 0.003\n"
     ]
    },
    {
     "name": "stderr",
     "output_type": "stream",
     "text": [
      "/tmp/ipykernel_13234/1137423704.py:34: ConstantInputWarning: An input array is constant; the correlation coefficient is not defined.\n",
      "  r = pearsonr(sub_df_pos['beta_1'], sub_df_pos['beta_2'])\n"
     ]
    },
    {
     "name": "stdout",
     "output_type": "stream",
     "text": [
      "missed D < 0 for site 50, 0.01\n"
     ]
    },
    {
     "name": "stderr",
     "output_type": "stream",
     "text": [
      "/tmp/ipykernel_13234/1137423704.py:55: ConstantInputWarning: An input array is constant; the correlation coefficient is not defined.\n",
      "  r = pearsonr(sub_df_tot['beta_1'], sub_df_tot['beta_2'])\n"
     ]
    },
    {
     "name": "stdout",
     "output_type": "stream",
     "text": [
      "missed D < 0 for site 50, 0.03\n",
      "missed D > 0 for site 50, 0.1\n",
      "missed D < 0 for site 50, 0.1\n",
      "missed all D for site 50, 0.1\n"
     ]
    }
   ],
   "source": [
    "## We're going to work with the simulations to plot the above curves\n",
    "# 1. Find all instances where both variants satisfy the MAF threshold\n",
    "# 2. Calculate correlations\n",
    "# 3. Calculate the selection coefficients\n",
    "# 4. Plot and use Fisher transformation for error bars\n",
    "from scipy.stats import pearsonr\n",
    "import re\n",
    "\n",
    "# Step 1\n",
    "beta_vals = pd.read_csv('betas.txt', header=None).to_numpy().squeeze()\n",
    "MAF_thr_values = [0.1, 0.03, 0.01, 0.003, 0.001][::-1]\n",
    "\n",
    "corr_df_pos = pd.DataFrame(0.0, index=MAF_thr_values, columns=beta_vals)\n",
    "corr_df_neg = pd.DataFrame(0.0, index=MAF_thr_values, columns=beta_vals)\n",
    "corr_df_tot = pd.DataFrame(0.0, index=MAF_thr_values, columns=beta_vals)\n",
    "sample_df = pd.DataFrame(0.0, index=MAF_thr_values, columns=beta_vals)\n",
    "remove = []\n",
    "for site in np.arange(len(beta_vals)):\n",
    "        print(f'starting site {site}')\n",
    "        # sim_arr = np.load(f'/n/scratch/users/s/sjg319/dataframes/sim_dfs/sim_{site}_{site}.npy')\n",
    "        # sim_df = pd.DataFrame(sim_arr)\n",
    "        # sim_df = sim_df.iloc[:, 1:]\n",
    "        # sim_df.columns = ['beta_1', 'beta_2', 'N00', 'N01', 'N10', 'N11']\n",
    "        \n",
    "        try:\n",
    "            sim_df = buildDF(site, gz_files)\n",
    "            sim_df[['N00', 'N01', 'N10', 'N11']] /= 91254\n",
    "            for i, MAF_thr in enumerate(MAF_thr_values):\n",
    "                try:\n",
    "                    # For the D > 0 case\n",
    "                    sub_df_pos = sim_df[(sim_df['N11']) > MAF_thr]\n",
    "                    \n",
    "                    # Step 2, calculate the correlation and store\n",
    "                    r = pearsonr(sub_df_pos['beta_1'], sub_df_pos['beta_2'])\n",
    "                    corr_df_pos.iloc[i, site] = r[0]\n",
    "                    # sample_df.iloc[i, site] = len(sub_df)\n",
    "                except:\n",
    "                    print(f'missed D > 0 for site {site}, {MAF_thr}')\n",
    "\n",
    "                try:\n",
    "                    # For the D < 0 case\n",
    "                    sub_df_neg = sim_df[(sim_df['N01']) > MAF_thr]\n",
    "                    sub_df_neg = sub_df_neg[(sub_df_neg['N10']) > MAF_thr]\n",
    "\n",
    "                    r = pearsonr(sub_df_neg['beta_1'], sub_df_neg['beta_2'])\n",
    "                    corr_df_neg.iloc[i, site] = r[0]\n",
    "                except:\n",
    "                    print(f'missed D < 0 for site {site}, {MAF_thr}')\n",
    "\n",
    "                try:\n",
    "                    # For the total case\n",
    "                    sub_df_tot = sim_df[(sim_df['N01'] + sim_df['N11']) > MAF_thr]\n",
    "                    sub_df_tot = sub_df_tot[(sub_df_tot['N10'] + sub_df_tot['N11']) > MAF_thr]\n",
    "\n",
    "                    r = pearsonr(sub_df_tot['beta_1'], sub_df_tot['beta_2'])\n",
    "                    corr_df_tot.iloc[i, site] = r[0]\n",
    "                except:\n",
    "                    print(f'missed all D for site {site}, {MAF_thr}')\n",
    "        except: \n",
    "            print(f'couldnt build {site}')\n",
    "            remove.append(site)\n"
   ]
  },
  {
   "cell_type": "code",
   "execution_count": 57,
   "id": "dcd0f3bf",
   "metadata": {},
   "outputs": [
    {
     "name": "stderr",
     "output_type": "stream",
     "text": [
      "<>:10: SyntaxWarning: invalid escape sequence '\\.'\n",
      "<>:10: SyntaxWarning: invalid escape sequence '\\.'\n",
      "/tmp/ipykernel_13234/162675427.py:10: SyntaxWarning: invalid escape sequence '\\.'\n",
      "  pattern = re.compile(f'demography_nonund_{site_1}_[0-9]+\\.txt\\.gz')\n"
     ]
    }
   ],
   "source": [
    "from os import listdir\n",
    "from os.path import isfile, join\n",
    "import re\n",
    "\n",
    "mypath='/n/scratch/users/s/sjg319/sim_outputs/demography_nonunderdom/'\n",
    "gz_files = [f for f in listdir(mypath) if isfile(join(mypath, f))]\n",
    "\n",
    "# Define the function that builds the dfs\n",
    "def buildDF(site_1, gz_files):\n",
    "    pattern = re.compile(f'demography_nonund_{site_1}_[0-9]+\\.txt\\.gz')\n",
    "    specified_files = []\n",
    "    for file in gz_files:\n",
    "        if bool(pattern.match(file)):\n",
    "            specified_files.append(file)\n",
    "\n",
    "    # Build the dataframe\n",
    "    df_list = []\n",
    "    for file in specified_files:\n",
    "        try:\n",
    "            df_list.append(pd.read_csv(mypath + f'/{file}', sep='\\t', compression='gzip'))\n",
    "        except:\n",
    "            pass\n",
    "\n",
    "    sim_df = pd.concat(df_list)\n",
    "\n",
    "    return sim_df"
   ]
  },
  {
   "cell_type": "code",
   "execution_count": 80,
   "id": "76b68e74",
   "metadata": {},
   "outputs": [],
   "source": [
    "corr_df_pos = pd.read_csv('dataframes/corr_pos_demog_underdom.csv', sep='\\t', index_col=0) \n",
    "\n",
    "new_labs = [2*14620*x**2 for x in beta_vals]\n",
    "corr_df_pos.columns = new_labs\n",
    "corr_df_pos = corr_df_pos.replace(0.0, np.NaN)"
   ]
  },
  {
   "cell_type": "code",
   "execution_count": 81,
   "id": "6078fe2d",
   "metadata": {},
   "outputs": [
    {
     "name": "stderr",
     "output_type": "stream",
     "text": [
      "/tmp/ipykernel_13234/803352316.py:1: MatplotlibDeprecationWarning: The get_cmap function was deprecated in Matplotlib 3.7 and will be removed two minor releases later. Use ``matplotlib.colormaps[name]`` or ``matplotlib.colormaps.get_cmap(obj)`` instead.\n",
      "  cmap = get_cmap('seismic_r')\n"
     ]
    },
    {
     "data": {
      "image/png": "[encoded data removed]",
      "text/plain": [
       "<Figure size 1200x400 with 1 Axes>"
      ]
     },
     "metadata": {},
     "output_type": "display_data"
    }
   ],
   "source": [
    "cmap = get_cmap('seismic_r')\n",
    "norm = Normalize(vmin=0.001, vmax=0.1)\n",
    "\n",
    "MAF_thr_values = [0.1, 0.03, 0.01, 0.003, 0.001][::-1]\n",
    "sigma_set = np.logspace(-1, 4, 40)\n",
    "\n",
    "for MAF_thr in MAF_thr_values:\n",
    "    corr_set = [stab_corr_posLD_poly(MAF_thr, sigma) for sigma in sigma_set]\n",
    "    plt.plot(sigma_set, corr_set, color=cmap(norm(MAF_thr)), label=str(MAF_thr))\n",
    "\n",
    "for ind in corr_df_tot.index:\n",
    "    plt.scatter(corr_df_pos.columns, corr_df_pos.loc[ind, :], label=(f'simulation {ind}'))\n",
    "\n",
    "plt.grid()\n",
    "plt.xscale(\"log\")\n",
    "plt.xlabel(\"S\", fontsize = 14)\n",
    "plt.ylabel(\"$\\\\xi$\", fontsize = 14)\n",
    "plt.legend()\n",
    "plt.title('Demography sim with underdom selection, polygenic background curves, D>0')\n",
    "plt.show()"
   ]
  },
  {
   "cell_type": "markdown",
   "id": "357914bd",
   "metadata": {},
   "source": [
    "# Dadi Simulator"
   ]
  },
  {
   "cell_type": "code",
   "execution_count": 82,
   "id": "cb385d6f",
   "metadata": {},
   "outputs": [],
   "source": [
    "import dadi\n",
    "import pandas as pd\n",
    "from dadi import PhiManip, Integration, Spectrum\n",
    "\n",
    "xx = dadi.Numerics.default_grid(5000)\n",
    "# We want to estimate phi for our given demography. First a \n",
    "# burn in period\n",
    "phi = PhiManip.phi_1D(xx)\n",
    "initial_pop = 14620\n",
    "phi = Integration.one_pop(phi, xx, 100000, nu=initial_pop)\n",
    "\n",
    "# Next, we want demography. Create a lambda function representing\n",
    "# the population over time\n",
    "populations = pd.read_csv('demo_Ns.txt', header=None).to_numpy().squeeze()\n",
    "nu_func = lambda t : 2*populations[int(t)]\n",
    "phi = Integration.one_pop(phi, xx, 999, nu=nu_func)"
   ]
  },
  {
   "cell_type": "code",
   "execution_count": 83,
   "id": "c6ff67e3",
   "metadata": {},
   "outputs": [
    {
     "data": {
      "image/png": "[encoded data removed]",
      "text/plain": [
       "<Figure size 1200x400 with 1 Axes>"
      ]
     },
     "metadata": {},
     "output_type": "display_data"
    }
   ],
   "source": [
    "import matplotlib.pyplot as plt\n",
    "import numpy as np\n",
    "\n",
    "plt.plot(xx, phi)\n",
    "plt.yscale(\"log\")\n",
    "plt.xscale(\"log\")\n",
    "plt.grid()\n",
    "# plt.legend()\n",
    "plt.show()\n",
    "\n",
    "# dadi.Plotting.plot_1d_fs(fs_three_epoch)"
   ]
  },
  {
   "cell_type": "markdown",
   "id": "18cfa36f",
   "metadata": {},
   "source": [
    "# Demography"
   ]
  },
  {
   "cell_type": "code",
   "execution_count": 2,
   "id": "c5edb0de",
   "metadata": {},
   "outputs": [
    {
     "name": "stderr",
     "output_type": "stream",
     "text": [
      "<>:10: SyntaxWarning: invalid escape sequence '\\.'\n",
      "<>:10: SyntaxWarning: invalid escape sequence '\\.'\n",
      "/tmp/ipykernel_26704/3505412583.py:10: SyntaxWarning: invalid escape sequence '\\.'\n",
      "  pattern = re.compile(f'{site_1}_[0-9]+\\.txt\\.gz')\n"
     ]
    }
   ],
   "source": [
    "# Let's start by reading in some of these files\n",
    "from os import listdir\n",
    "from os.path import isfile, join\n",
    "import re\n",
    "\n",
    "mypath='/n/scratch/users/s/sjg319/sim_outputs/recomb/10/underdom/'\n",
    "gz_files = [f for f in listdir(mypath) if isfile(join(mypath, f))]\n",
    "\n",
    "# Define the function that builds the dfs\n",
    "def buildDF(site_1, gz_files):\n",
    "    pattern = re.compile(f'{site_1}_[0-9]+\\.txt\\.gz')\n",
    "    specified_files = []\n",
    "    for file in gz_files:\n",
    "        if bool(pattern.match(file)):\n",
    "            specified_files.append(file)\n",
    "\n",
    "    # Build the dataframe\n",
    "    df_list = [pd.read_csv(mypath + f'/{file}', sep='\\t', compression='gzip') for file in specified_files]\n",
    "    sim_df = pd.concat(df_list)\n",
    "\n",
    "    return sim_df"
   ]
  },
  {
   "cell_type": "code",
   "execution_count": 84,
   "id": "6b42756e",
   "metadata": {},
   "outputs": [],
   "source": [
    "import numpy as np\n",
    "\n",
    "mypath='/n/scratch/users/s/sjg319/sim_outputs/demography'\n",
    "\n",
    "# Build the dataframe\n",
    "df_list = [pd.read_csv(f'{mypath}/demography_selec_0_{i}.txt.gz', sep='\\t', compression='gzip') for i in np.arange(1, 1001)]\n",
    "sim_df = pd.concat(df_list)"
   ]
  },
  {
   "cell_type": "code",
   "execution_count": 86,
   "id": "2bda1757",
   "metadata": {},
   "outputs": [],
   "source": [
    "def windowSmoothing(vec, w_size):\n",
    "    smoothed = vec\n",
    "\n",
    "    for i in range(len(vec) - 2*w_size):\n",
    "        smoothed[i+w_size] = np.mean(vec[(i+w_size): (i+2*w_size)])\n",
    "\n",
    "    return smoothed"
   ]
  },
  {
   "cell_type": "code",
   "execution_count": 90,
   "id": "93b0e769",
   "metadata": {},
   "outputs": [
    {
     "data": {
      "text/plain": [
       "6.839945280437756e-05"
      ]
     },
     "execution_count": 90,
     "metadata": {},
     "output_type": "execute_result"
    }
   ],
   "source": []
  },
  {
   "cell_type": "code",
   "execution_count": 93,
   "id": "606f5740",
   "metadata": {},
   "outputs": [],
   "source": [
    "def line_scat(val_vec):\n",
    "    d = {}\n",
    "    for i in val_vec:\n",
    "        if not d.get(i):\n",
    "            d[i] = 0\n",
    "        d[i] += 1\n",
    "    ks = sorted(list(d.keys()))\n",
    "    vs = [d[i] for i in ks]\n",
    "    return ks, vs\n",
    "\n",
    "ks_1, vs_1 = line_scat(sim_df[\"N01\"] + sim_df[\"N11\"])\n",
    "ks_2, vs_2 = line_scat(sim_df[\"N10\"] + sim_df[\"N11\"])\n",
    "ks_3, vs_3 = line_scat(sim_df[\"N11\"])\n",
    "\n",
    "# vs_1 = windowSmoothing(vs_1, 50)\n",
    "# vs_2 = windowSmoothing(vs_2, 50)\n",
    "# vs_3 = windowSmoothing(vs_3, 50)\n",
    "\n",
    "ks_1 = ks_1 / sim_df.iloc[0, :].sum()\n",
    "ks_2 = ks_2 / sim_df.iloc[0, :].sum()\n",
    "ks_3 = ks_3 / sim_df.iloc[0, :].sum()\n",
    "\n",
    "# plt.plot(np.array(ks_2), np.array(vs_2)/len(sim_df), label=\"site2\")\n",
    "plt.plot(np.array(ks_1), np.array(vs_1)/len(sim_df), label=\"single site\")\n",
    "plt.plot(np.array(ks_3), np.array(vs_3)/len(sim_df), label=\"double mutants\")\n",
    "# plt.plot(x, y, label=\"hyperbolic expectation\")\n",
    "\n",
    "# We rescale so that integrals are about the same\n",
    "phi_int = 0\n",
    "for i in range(10, (len(phi) - 1)):\n",
    "    phi_int += phi[i]*(xx[i+1] - xx[i])\n",
    "\n",
    "sim_int = 0\n",
    "scale = np.array(vs_2)/len(sim_df)\n",
    "for i in range(1, (len(ks_2) - 1)):\n",
    "    sim_int += scale[i] * (ks_2[i+1] - ks_2[i])\n",
    "\n",
    "phi_scale = sim_int * phi / phi_int\n",
    "\n",
    "\n",
    "plt.plot(xx, phi_scale, label='dadi simulation')\n",
    "\n",
    "plt.yscale(\"log\")\n",
    "plt.xscale(\"log\")\n",
    "plt.grid()\n",
    "plt.legend()\n",
    "plt.xlabel(\"AF\", fontsize=16)\n",
    "plt.ylabel(\"Frequency\", fontsize=16)\n",
    "\n",
    "cutoff = 1/14620\n",
    "ax = plt.gca()\n",
    "ax.set_xlim([cutoff, 1])\n",
    "\n",
    "plt.savefig('dadi_demography_plot.pdf')\n",
    "plt.show()"
   ]
  }
 ],
 "metadata": {
  "kernelspec": {
   "display_name": "py311",
   "language": "python",
   "name": "python3"
  },
  "language_info": {
   "codemirror_mode": {
    "name": "ipython",
    "version": 3
   },
   "file_extension": ".py",
   "mimetype": "text/x-python",
   "name": "python",
   "nbconvert_exporter": "python",
   "pygments_lexer": "ipython3",
   "version": "3.12.2"
  }
 },
 "nbformat": 4,
 "nbformat_minor": 5
}
